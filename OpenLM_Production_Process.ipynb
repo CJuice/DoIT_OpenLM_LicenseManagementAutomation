{
 "cells": [
  {
   "cell_type": "markdown",
   "metadata": {
    "slideshow": {
     "slide_type": "-"
    }
   },
   "source": [
    "# ESRI Concurrent Licensing Use Evaluation Process"
   ]
  },
  {
   "cell_type": "markdown",
   "metadata": {},
   "source": [
    "#### INSTRUCTIONS\n",
    "Welcome,  \n",
    "Click the \"Cell\" menu above and choose \"Run All\".  \n",
    "The notebook will automatically slide your screen to the bottom cell and you will see an asterick \\* in the sqare brackets of cells as they wait to be run. A number will appear in the square brackets once a cell has been run. When a number appears in the final cell of the notebook you know the process is complete and your output file is ready. There are \"VALIDATION STEPS\" in this notebook that serve to check outputs, inputs, and to identify issues with the process and/or data. If the square brackets are empty instead of containing an \\* or a number, it means you haven't run them or there was an error during a run. Scroll through the process to find the error output and see your friendly local Python developer.  \n",
    "To run a cell hit \"shift + enter\".  \n",
    "Tips on operating the VALIDATION STEP functionality: A '#' symbol at the start of a line of code means it is commented out and will not be executed. To uncomment the code  simply delete the \"#\" symbol or hit \"ctrl + /\" while your cursor is on the line of code.   "
   ]
  },
  {
   "cell_type": "markdown",
   "metadata": {},
   "source": [
    "\n",
    "# Imports"
   ]
  },
  {
   "cell_type": "code",
   "execution_count": null,
   "metadata": {},
   "outputs": [],
   "source": [
    "from datetime import datetime\n",
    "import numpy as np\n",
    "import os\n",
    "import pandas as pd"
   ]
  },
  {
   "attachments": {
    "EnterYourFileNameHere.PNG": {
     "image/png": "[encoded data removed]"
    }
   },
   "cell_type": "markdown",
   "metadata": {},
   "source": [
    "##### EXAMPLE FOR USER TO FOLLOW (screenshot)\n",
    "![EnterYourFileNameHere.PNG](attachment:EnterYourFileNameHere.PNG)"
   ]
  },
  {
   "cell_type": "markdown",
   "metadata": {},
   "source": [
    "# Variables"
   ]
  },
  {
   "cell_type": "code",
   "execution_count": null,
   "metadata": {},
   "outputs": [],
   "source": [
    "data_file = r\"ESSENTIAL_Current_Report_File\\{}.csv\".format(\"Example Activity Report Generated by OpenLM SEPTtoFEB\") # ENTER YOUR FILE NAME HERE\n",
    "assert(os.path.exists(data_file))\n",
    "data_file"
   ]
  },
  {
   "cell_type": "code",
   "execution_count": null,
   "metadata": {},
   "outputs": [],
   "source": [
    "column_datatypes = {\"Feature\": str, \"Product\": str, \"Start Time\": str, \"End Time\": str, \"Workstation\": str,\n",
    "                    \"User Name\": str, \"First Name\": str, \"Last Name\": str, \"Email\": str, \n",
    "                    \"Total usage time (hours)\": float}\n",
    "dt_value = datetime.today().strftime(\"%Y%m%d\")\n",
    "fields_to_drop = [\"Version\", \"License Type\", \"Borrowed\", \"Server\", \"Vendor\", \"Additional Key\", \"Host Ids\", \"IP\",\n",
    "                  \"Project\", \"Group\", \"Usage Time w/in filter period\", \"Consumed Tokens\", \"Idle Time (hours)\",\n",
    "                  \"Token Usage Time\", \"Token Usage Time w/in filter period\", \"Session ID\",\n",
    "                  \"Source\"]\n",
    "output_excel_file_name = \"ESSENTIAL_Process_Output_Files\\{}_ESRI_Concurrent_Licensing_Reports.xlsx\".format(dt_value)\n",
    "product_label_substitutions_file = r\"ESSENTIAL_Value_Substitution_Files\\ProductCodeToProductLabel_SubstitutionsList.csv\"\n",
    "workstation_agency_substitutions_file = r\"ESSENTIAL_Value_Substitution_Files\\WorkstationToAgency_SubstitutionsList.csv\""
   ]
  },
  {
   "cell_type": "markdown",
   "metadata": {
    "slideshow": {
     "slide_type": "-"
    }
   },
   "source": [
    "# Process the Data\n",
    "#### Create Master Dataframe from OpenLM Report (.csv) of Interest"
   ]
  },
  {
   "cell_type": "code",
   "execution_count": null,
   "metadata": {},
   "outputs": [],
   "source": [
    "master_df = pd.read_csv(filepath_or_buffer=data_file, dtype=str)"
   ]
  },
  {
   "cell_type": "markdown",
   "metadata": {
    "slideshow": {
     "slide_type": "-"
    }
   },
   "source": [
    "#### Drop Unneeded Fields"
   ]
  },
  {
   "cell_type": "code",
   "execution_count": null,
   "metadata": {},
   "outputs": [],
   "source": [
    "master_df.drop(columns=fields_to_drop, inplace=True)"
   ]
  },
  {
   "cell_type": "markdown",
   "metadata": {
    "slideshow": {
     "slide_type": "-"
    }
   },
   "source": [
    "#### Replace Commas in \"Total usage time (hours)\" Field and Adjust Column Data Types for Calculation Steps"
   ]
  },
  {
   "cell_type": "code",
   "execution_count": null,
   "metadata": {},
   "outputs": [],
   "source": [
    "# clean_commas_from_usage_time. pandas.DataFrame.replace wasn't working to find comma in string ??\n",
    "def replace_commas(value):\n",
    "    value = str(value)\n",
    "    if \",\" in value:\n",
    "        value =value.replace(\",\", \"\")\n",
    "    return float(value)\n",
    "\n",
    "master_df[\"Total usage time (hours)\"] = master_df[\"Total usage time (hours)\"].apply(func=replace_commas)\n",
    "master_df = master_df.astype(dtype=column_datatypes)"
   ]
  },
  {
   "cell_type": "markdown",
   "metadata": {
    "slideshow": {
     "slide_type": "-"
    }
   },
   "source": [
    "### Field Calculations"
   ]
  },
  {
   "cell_type": "markdown",
   "metadata": {},
   "source": [
    "#### Get Product Label Values as a Python Dictionary"
   ]
  },
  {
   "cell_type": "code",
   "execution_count": null,
   "metadata": {},
   "outputs": [],
   "source": [
    "product_label_substitutions_df = pd.read_csv(filepath_or_buffer=product_label_substitutions_file)\n",
    "product_label_substitutions_df.set_index(\"VALUE\", inplace=True)\n",
    "product_label_substitutions_dict = product_label_substitutions_df.to_dict(orient=\"dict\")[\"REPLACEMENT\"]"
   ]
  },
  {
   "cell_type": "markdown",
   "metadata": {},
   "source": [
    "#### Replace Product Code values with Product Label replacements and Apply"
   ]
  },
  {
   "cell_type": "code",
   "execution_count": null,
   "metadata": {},
   "outputs": [],
   "source": [
    "unrecognized_values_set = set()\n",
    "def product_code_to_label(value):\n",
    "    try:\n",
    "        value = product_label_substitutions_dict[value]\n",
    "    except KeyError:\n",
    "        value = value.strip(\"*\") # In case ran this step before and already has an '*'\n",
    "        unrecognized_values_set.add(value)\n",
    "        value = \"*\" + value\n",
    "    return value\n",
    "\n",
    "master_df[\"Product\"] = master_df[\"Product\"].apply(func=product_code_to_label)"
   ]
  },
  {
   "cell_type": "markdown",
   "metadata": {},
   "source": [
    "##### VALIDATION STEP: Unrecognized Product Names"
   ]
  },
  {
   "cell_type": "code",
   "execution_count": null,
   "metadata": {},
   "outputs": [],
   "source": [
    "# If no unrecognized values then you will see 'set()' printed out\n",
    "unrecognized_values_set"
   ]
  },
  {
   "cell_type": "markdown",
   "metadata": {},
   "source": [
    "#### Get Workstation Substitution Values as a Python Dictionary"
   ]
  },
  {
   "cell_type": "code",
   "execution_count": null,
   "metadata": {},
   "outputs": [],
   "source": [
    "workstation_substitutions_df = pd.read_csv(filepath_or_buffer=workstation_agency_substitutions_file)\n",
    "workstation_substitutions_df.set_index(\"VALUE\", inplace=True)\n",
    "workstation_substitutions_dict = workstation_substitutions_df.to_dict(orient=\"dict\")[\"REPLACEMENT\"]"
   ]
  },
  {
   "cell_type": "markdown",
   "metadata": {},
   "source": [
    "#### Add New Fields and Calculate"
   ]
  },
  {
   "cell_type": "code",
   "execution_count": null,
   "metadata": {},
   "outputs": [],
   "source": [
    "# Calculate Product_Workstation field\n",
    "master_df[\"Product_Workstation\"] = master_df[\"Product\"] + \"_\" + master_df[\"Workstation\"]\n",
    "\n",
    "# Calculate Product_Username field\n",
    "master_df[\"Product_Username\"] = master_df[\"Product\"] + \"_\" + master_df[\"User Name\"]\n",
    "\n",
    "# Convert Start and End Time fields\n",
    "master_df[\"Start Time\"] = pd.to_datetime(arg=master_df[\"Start Time\"], dayfirst=True)\n",
    "master_df[\"End Time\"] = pd.to_datetime(arg=master_df[\"End Time\"], dayfirst=True)\n",
    "\n",
    "# Calculate Date field from datetime object. For Peak Usage Report\n",
    "master_df[\"Date\"] = master_df[\"End Time\"].apply(lambda x: x.strftime(\"%Y%m%d\"))"
   ]
  },
  {
   "cell_type": "code",
   "execution_count": null,
   "metadata": {},
   "outputs": [],
   "source": [
    "# Calculate Agency field\n",
    "def workstation_to_agency(workstation_value):\n",
    "    result = \"Research\"\n",
    "    for key, value in workstation_substitutions_dict.items():\n",
    "        if key in workstation_value:\n",
    "            result = value\n",
    "            break\n",
    "        else:\n",
    "            continue\n",
    "    return result"
   ]
  },
  {
   "cell_type": "code",
   "execution_count": null,
   "metadata": {},
   "outputs": [],
   "source": [
    "master_df[\"Agency\"] = master_df[\"Workstation\"].apply(func=workstation_to_agency)"
   ]
  },
  {
   "cell_type": "markdown",
   "metadata": {},
   "source": [
    "##### VALIDATION STEP: Unique 'Agency' values and counts"
   ]
  },
  {
   "cell_type": "code",
   "execution_count": null,
   "metadata": {},
   "outputs": [],
   "source": [
    "master_df[\"Agency\"].value_counts()"
   ]
  },
  {
   "cell_type": "markdown",
   "metadata": {},
   "source": [
    "##### VALIDATION STEP: See Records of Workstation Values where 'Agency' equals 'Research'"
   ]
  },
  {
   "cell_type": "code",
   "execution_count": null,
   "metadata": {},
   "outputs": [],
   "source": [
    "# master_df[(master_df[\"Agency\"] == \"Research\")][[\"Workstation\", \"Agency\"]]"
   ]
  },
  {
   "cell_type": "markdown",
   "metadata": {},
   "source": [
    "##### VALIDATION STEP: See Workstation Substitutions Values"
   ]
  },
  {
   "cell_type": "code",
   "execution_count": null,
   "metadata": {},
   "outputs": [],
   "source": [
    "workstation_substitutions_dict"
   ]
  },
  {
   "cell_type": "markdown",
   "metadata": {},
   "source": [
    "##### VALIDATION STEP: See the Unique Agency Codes Where Substitution Resulted in 'Research'"
   ]
  },
  {
   "cell_type": "code",
   "execution_count": null,
   "metadata": {},
   "outputs": [],
   "source": [
    "master_df[(master_df[\"Agency\"] == \"Research\")][\"Workstation\"].unique()"
   ]
  },
  {
   "cell_type": "markdown",
   "metadata": {},
   "source": [
    "# Report Generation"
   ]
  },
  {
   "cell_type": "markdown",
   "metadata": {},
   "source": [
    "Note to future developers. The .agg() function is applied to entire dataframe but only numeric fields are evaluated. \n",
    "The 'Total usage time (hours)' column is the only numeric column as of 20190215. If another numeric field is added to the input data then this would need to be revised."
   ]
  },
  {
   "cell_type": "markdown",
   "metadata": {},
   "source": [
    "### Product_Workstation Report"
   ]
  },
  {
   "cell_type": "code",
   "execution_count": null,
   "metadata": {},
   "outputs": [],
   "source": [
    "agency_product_workstation_gbdf = master_df.groupby(by=[\"Agency\", \"Product_Workstation\"], axis=0)\n",
    "agency_product_workstation_usage_df = agency_product_workstation_gbdf.sum()\n",
    "agency_product_workstation_count = agency_product_workstation_gbdf[\"Product_Workstation\"].agg(np.count_nonzero)\n",
    "agency_product_workstation_count.name = \"Frequency\"\n",
    "product_workstation_report = agency_product_workstation_usage_df.join(other=agency_product_workstation_count, how=\"left\")"
   ]
  },
  {
   "cell_type": "markdown",
   "metadata": {},
   "source": [
    "### Product_Username Report"
   ]
  },
  {
   "cell_type": "code",
   "execution_count": null,
   "metadata": {},
   "outputs": [],
   "source": [
    "agency_product_username_gbdf = master_df.groupby(by=[\"Agency\", \"Product_Username\"], axis=0)\n",
    "agency_product_username_usage_df = agency_product_username_gbdf.agg(np.sum)\n",
    "agency_product_username_count = agency_product_username_gbdf[\"Product_Username\"].agg(np.count_nonzero)\n",
    "agency_product_username_count.name = \"Frequency\"\n",
    "product_username_report = agency_product_username_usage_df.join(other=agency_product_username_count, how=\"left\")"
   ]
  },
  {
   "cell_type": "markdown",
   "metadata": {},
   "source": [
    "### Evaluation of Product Use by Agency "
   ]
  },
  {
   "cell_type": "code",
   "execution_count": null,
   "metadata": {},
   "outputs": [],
   "source": [
    "agency_product_gbdf = master_df.groupby(by=[\"Agency\", \"Product\"], axis=0)\n",
    "agency_product_usage_df = agency_product_gbdf.agg(np.sum)\n",
    "agency_product_count_series = agency_product_gbdf[\"Product\"].agg(np.count_nonzero)\n",
    "agency_product_count_series.name = \"Frequency\"\n",
    "agency_username_count_series = agency_product_gbdf[\"User Name\"].nunique()\n",
    "agency_username_count_series.name = \"Unique Usernames\"\n",
    "agency_workstation_count_series = agency_product_gbdf[\"Workstation\"].nunique()\n",
    "agency_workstation_count_series.name = \"Unique Workstations\"\n",
    "agency_product_count_report = agency_product_usage_df.join(other=agency_product_count_series, \n",
    "                                                           how=\"left\").join(other=agency_workstation_count_series, \n",
    "                                                                            how=\"left\").join(other=agency_username_count_series, \n",
    "                                                                            how=\"left\")"
   ]
  },
  {
   "cell_type": "markdown",
   "metadata": {},
   "source": [
    "### Peak Usage Report"
   ]
  },
  {
   "cell_type": "code",
   "execution_count": null,
   "metadata": {},
   "outputs": [],
   "source": [
    "peak_usage_gbdf = master_df.groupby(by=[\"Agency\", \"Date\", \"Product\"], axis=0)\n",
    "usernames_per_day_series = peak_usage_gbdf[\"User Name\"].nunique()\n",
    "usernames_per_day_series.name = \"Unique Usernames\"\n",
    "usernames_per_day_df = usernames_per_day_series.to_frame()\n",
    "usernames_per_day_gbdf = usernames_per_day_df.groupby(by=[\"Agency\", \"Product\"], axis=0)\n",
    "peak_usage_report = usernames_per_day_gbdf.max().rename(columns={\"Unique Usernames\": \"Max Licenses\"})"
   ]
  },
  {
   "cell_type": "markdown",
   "metadata": {},
   "source": [
    "##### VALIDATION STEP: Inspect for Specific Agency Product Usage\n",
    "Use the below code to verify the findings above for each agencies max usage across all dates a product was used by that agency. After a successful run of the process, you can edit the agency abbreviation and product label values below, and run both cells in order and interrogate the data."
   ]
  },
  {
   "cell_type": "code",
   "execution_count": null,
   "metadata": {},
   "outputs": [],
   "source": [
    " # EDIT MY VALUES\n",
    "agency_abbreviation_you_want_to_check = \"SHA\"\n",
    "product_label_you_want_to_check = \"ArcGIS Desktop Advanced\""
   ]
  },
  {
   "cell_type": "code",
   "execution_count": null,
   "metadata": {},
   "outputs": [],
   "source": [
    "try:\n",
    "    agency_isolation_df = usernames_per_day_df.xs(key=agency_abbreviation_you_want_to_check, axis=0, level=0)\n",
    "    product_isolation_series = agency_isolation_df.xs(key=product_label_you_want_to_check, axis=0, level=1).agg(np.max)\n",
    "except KeyError as ke:\n",
    "    print(\"Key Error occurred. {key} not found. Try again.\".format(key=ke))\n",
    "product_isolation_series.name = \"{} - {}\".format(agency_abbreviation_you_want_to_check, product_label_you_want_to_check)\n",
    "product_isolation_series"
   ]
  },
  {
   "cell_type": "markdown",
   "metadata": {},
   "source": [
    "### Write the Report Data to an Excel File"
   ]
  },
  {
   "cell_type": "code",
   "execution_count": null,
   "metadata": {},
   "outputs": [],
   "source": [
    "with pd.ExcelWriter(path=output_excel_file_name, datetime_format=\"YYYY-MM-DD\") as writer:\n",
    "    product_workstation_report.to_excel(writer, sheet_name=\"Product Workstation\")\n",
    "    product_username_report.to_excel(writer, sheet_name=\"Product Username\")\n",
    "    agency_product_count_report.to_excel(writer, sheet_name=\"Agency Product Use Evaluation\")\n",
    "    peak_usage_report.to_excel(writer, sheet_name=\"Peak Usage\")"
   ]
  }
 ],
 "metadata": {
  "kernelspec": {
   "display_name": "Python 3",
   "language": "python",
   "name": "python3"
  },
  "language_info": {
   "codemirror_mode": {
    "name": "ipython",
    "version": 3
   },
   "file_extension": ".py",
   "mimetype": "text/x-python",
   "name": "python",
   "nbconvert_exporter": "python",
   "pygments_lexer": "ipython3",
   "version": "3.7.1"
  }
 },
 "nbformat": 4,
 "nbformat_minor": 1
}
